{
 "cells": [
  {
   "cell_type": "code",
   "execution_count": 2,
   "metadata": {},
   "outputs": [
    {
     "name": "stdout",
     "output_type": "stream",
     "text": [
      "[3, 8]\n"
     ]
    }
   ],
   "source": [
    "import random\n",
    "b = random.randint(1, 10)\n",
    "a = random.sample(range(2,12), b)\n",
    "print (a)"
   ]
  },
  {
   "cell_type": "code",
   "execution_count": 11,
   "metadata": {},
   "outputs": [
    {
     "data": {
      "text/plain": [
       "[{0: 0, 1: 1, 2: 2, 3: 3}, {0: 0, 1: 1, 2: 2, 3: 3}]"
      ]
     },
     "execution_count": 11,
     "metadata": {},
     "output_type": "execute_result"
    }
   ],
   "source": [
    "a = [[]for i in range (2)]\n",
    "\n",
    "\n",
    "for i in range(2) :\n",
    "    a[i] = dict()\n",
    "\n",
    "\n",
    "for i in range(2) :\n",
    "    for j in range (4):\n",
    "        a[i][j] = j\n",
    "a"
   ]
  },
  {
   "cell_type": "code",
   "execution_count": 17,
   "metadata": {},
   "outputs": [
    {
     "data": {
      "text/plain": [
       "[[1, 2, 3], [0, 0, 0, 0], [0, 0, 0, 0]]"
      ]
     },
     "execution_count": 17,
     "metadata": {},
     "output_type": "execute_result"
    }
   ],
   "source": [
    "room_weights = [[0 for i in range (4) ] for i in range (3)]\n",
    "room_weights[0] = [1,2,3]\n",
    "room_weights"
   ]
  },
  {
   "cell_type": "code",
   "execution_count": 12,
   "metadata": {},
   "outputs": [
    {
     "name": "stdout",
     "output_type": "stream",
     "text": [
      "        0       1\n",
      "0  [1, 2]  [3, 4]\n",
      "1  [3, 2]  [5, 6]\n"
     ]
    }
   ],
   "source": [
    "import pandas as pd\n",
    "\n",
    "a = [[[1,2],[3,4]],\n",
    "    [[3,2],[5,6]]]\n",
    "\n",
    "df = pd.DataFrame(a)\n",
    "\n",
    "print (df)"
   ]
  },
  {
   "cell_type": "code",
   "execution_count": 4,
   "metadata": {},
   "outputs": [
    {
     "data": {
      "text/plain": [
       "(array([0, 3]),)"
      ]
     },
     "execution_count": 4,
     "metadata": {},
     "output_type": "execute_result"
    }
   ],
   "source": [
    "import numpy as np\n",
    "A = np.array([1,3,4,1])\n",
    "a = np.where(A == A.min())\n",
    "a"
   ]
  },
  {
   "cell_type": "code",
   "execution_count": 5,
   "metadata": {},
   "outputs": [
    {
     "data": {
      "text/plain": [
       "[2, 4, 1, 2, 3]"
      ]
     },
     "execution_count": 5,
     "metadata": {},
     "output_type": "execute_result"
    }
   ],
   "source": [
    "A = [[1,2], [2,4]]\n",
    "\n",
    "B = A[1] + [1,2,3]\n",
    "B"
   ]
  },
  {
   "cell_type": "code",
   "execution_count": 8,
   "metadata": {},
   "outputs": [
    {
     "data": {
      "text/plain": [
       "[[2, 3], [2, 3, 4]]"
      ]
     },
     "execution_count": 8,
     "metadata": {},
     "output_type": "execute_result"
    }
   ],
   "source": [
    "A = [[1,2,3],[2,3,4]]\n",
    "\n",
    "A[0].remove(1)\n",
    "A\n"
   ]
  },
  {
   "cell_type": "code",
   "execution_count": 20,
   "metadata": {},
   "outputs": [
    {
     "name": "stdout",
     "output_type": "stream",
     "text": [
      "[1, 3, 2]\n"
     ]
    }
   ],
   "source": [
    "import random \n",
    "A = [1,2,3]\n",
    "random.shuffle(A)\n",
    "print (A)"
   ]
  },
  {
   "cell_type": "code",
   "execution_count": 54,
   "metadata": {},
   "outputs": [
    {
     "data": {
      "text/plain": [
       "[[[0, 1], [7, 8], [5], [7, 1], [1], [0], [0]],\n",
       " [[3], [3], [3, 8], [5], [8], [7, 3], [5, 8]],\n",
       " [[4], [9], [7], [3], [3], [1], [3]],\n",
       " [[2], [4], [2, 9], [9], [4], [8], [7]],\n",
       " [[6], [], [6], [], [9], [6], [9]],\n",
       " [[5, 8], [6, 0], [4, 0], [2, 4], [2, 6], [9, 4], [2, 6]],\n",
       " [[], [1], [1], [6], [5], [5], [1]]]"
      ]
     },
     "execution_count": 54,
     "metadata": {},
     "output_type": "execute_result"
    }
   ],
   "source": [
    "import csv\n",
    "import json\n",
    "path = '/home/toto/Code/DALN-DR.Scheduling/cheker/solution.csv'\n",
    "\n",
    "num_day = 7\n",
    "num_room = 7\n",
    "\n",
    "solution = [[[] for i in range (7)] for j in range (7)]\n",
    "\n",
    "with open (path, 'r') as file :\n",
    "    reader = csv.reader(file)\n",
    "    next (reader, None)\n",
    "\n",
    "    count = 0\n",
    "    for row in reader :\n",
    "        \n",
    "        for i in range (len(row )):    \n",
    "            if (i == 0) : continue\n",
    "            # print (row[i])\n",
    "            solution[count][i - 1] = json.loads(row[i])\n",
    "        count +=1 \n",
    "            \n",
    "\n",
    "solution"
   ]
  },
  {
   "cell_type": "code",
   "execution_count": 57,
   "metadata": {},
   "outputs": [
    {
     "name": "stdout",
     "output_type": "stream",
     "text": [
      "7\n"
     ]
    }
   ],
   "source": [
    "print (len (solution))"
   ]
  },
  {
   "cell_type": "code",
   "execution_count": 64,
   "metadata": {},
   "outputs": [
    {
     "data": {
      "text/plain": [
       "7"
      ]
     },
     "execution_count": 64,
     "metadata": {},
     "output_type": "execute_result"
    }
   ],
   "source": [
    "A  = [[[1,2,3],[1,3]]\n",
    "      ,[[2,3],[3]]\n",
    "      , [[3],[3,4]]]\n",
    "\n",
    "f = open(\"text.txt\", 'a')\n",
    "# with open (\"text.csv\", 'w') as file :\n",
    "# for i in range(len(A)):\n",
    "#     for j in range(2):\n",
    "#         for x in A[i][j]:\n",
    "#             f.write(\"{},\".format(x))\n",
    "#         f.write(\"     \")\n",
    "#     f.write(\"\\n\")\n",
    "f.write(\"(HEllo)\")\n",
    "        \n"
   ]
  },
  {
   "cell_type": "code",
   "execution_count": 3,
   "metadata": {},
   "outputs": [],
   "source": [
    "class A :\n",
    "    def __init__(self) :\n",
    "        self.x = 3\n",
    "        self.y = 5\n",
    "        self.mt = [[2,2],[1,1]]\n",
    "\n"
   ]
  },
  {
   "cell_type": "code",
   "execution_count": 5,
   "metadata": {},
   "outputs": [],
   "source": [
    "import copy\n",
    "b = A()\n",
    "temp = copy.deepcopy(b)\n"
   ]
  },
  {
   "cell_type": "code",
   "execution_count": 6,
   "metadata": {},
   "outputs": [],
   "source": [
    "temp.mt[0][0] = 1"
   ]
  },
  {
   "cell_type": "code",
   "execution_count": 7,
   "metadata": {},
   "outputs": [
    {
     "name": "stdout",
     "output_type": "stream",
     "text": [
      "[[2, 2], [1, 1]]\n"
     ]
    }
   ],
   "source": [
    "print (b.mt)"
   ]
  },
  {
   "cell_type": "code",
   "execution_count": 8,
   "metadata": {},
   "outputs": [
    {
     "name": "stdout",
     "output_type": "stream",
     "text": [
      "[[1, 2], [1, 1]]\n"
     ]
    }
   ],
   "source": [
    "print (temp.mt)"
   ]
  },
  {
   "cell_type": "code",
   "execution_count": 73,
   "metadata": {},
   "outputs": [
    {
     "name": "stdout",
     "output_type": "stream",
     "text": [
      "5\n",
      "4\n"
     ]
    }
   ],
   "source": [
    "b.y = 4\n",
    "print (a.y)\n",
    "print (b.y)"
   ]
  },
  {
   "cell_type": "code",
   "execution_count": 3,
   "metadata": {},
   "outputs": [
    {
     "name": "stdout",
     "output_type": "stream",
     "text": [
      "Kiều Văn Tuấn\n",
      "Đỗ Anh Giang\n",
      "Phạm Thị Thu Hiền\n",
      "Nguyễn Hoài Nam\n",
      "Nguyễn Trường Sơn\n",
      "Lưu Thị Minh Diệp\n",
      "Nguyễn Thế Phương\n",
      "Trần Việt Hùng\n",
      "Đinh Thị Quỳnh Hương\n",
      "Vũ Mạnh Hà\n",
      "Trần Tuấn Việt\n",
      "Trần Tuấn Anh\n",
      "Vũ Thái Hòa\n",
      "Hồng Thu Hà\n",
      "Nguyễn Thị Thu Duyên\n",
      "Thang Văn Năm\n",
      "Lê Tú Anh\n",
      "Nguyễn Thị Thu Hiền\n",
      "Phạm Bình Nguyên\n",
      "Vũ Công Thắng\n",
      "Vũ Hải Hậu\n",
      "Đặng Trung Hiếu\n",
      "Nguyễn Thị Phương\n",
      "Lê Ngọc Thanh\n",
      "Nguyễn Nghệ Tĩnh\n",
      "Hoàng Mạnh Hùng\n",
      "Đặng Quang Nam\n",
      "Võ Thị Thùy Trang\n",
      "Trần Thị Huyền Nga\n",
      "Nguyễn Minh Ngọc\n"
     ]
    }
   ],
   "source": [
    "import csv\n",
    "path = '/home/toto/Downloads/'\n",
    "path1 = path +  \"Doctor.csv\"\n",
    "with open(path1, 'r') as file1:\n",
    "        reader = csv.reader(file1)\n",
    "        next(reader, None)\n",
    "        count = 0\n",
    "        for row in reader :\n",
    "            print (row[1])\n",
    "\n",
    "            \n",
    "        \n",
    "    "
   ]
  },
  {
   "cell_type": "code",
   "execution_count": 10,
   "metadata": {},
   "outputs": [
    {
     "data": {
      "text/plain": [
       "<BarContainer object of 4 artists>"
      ]
     },
     "execution_count": 10,
     "metadata": {},
     "output_type": "execute_result"
    },
    {
     "data": {
      "image/png": "[encoded data removed]",
      "text/plain": [
       "<Figure size 640x480 with 1 Axes>"
      ]
     },
     "metadata": {},
     "output_type": "display_data"
    }
   ],
   "source": [
    "import seaborn as sns\n",
    "import matplotlib.pyplot as plt\n",
    "A = [1,2,3,4]\n",
    "\n",
    "name = ['A', \"B\", 'C', 'D']\n",
    "plt.bar(name,A)"
   ]
  },
  {
   "cell_type": "code",
   "execution_count": 1,
   "metadata": {},
   "outputs": [
    {
     "name": "stdout",
     "output_type": "stream",
     "text": [
      "[[1, 0, 3], [2, 3, 4]]\n",
      "[[1, 2, 3], [2, 3, 4]]\n"
     ]
    }
   ],
   "source": [
    "import copy\n",
    "A = [[1,2,3],\n",
    "     [2,3,4]]\n",
    "\n",
    "B = copy.deepcopy (A)\n",
    "\n",
    "B[0][1] = 0\n",
    "print (B)\n",
    "\n",
    "print (A)"
   ]
  },
  {
   "cell_type": "code",
   "execution_count": 11,
   "metadata": {},
   "outputs": [
    {
     "ename": "TypeError",
     "evalue": "'int' object is not callable",
     "output_type": "error",
     "traceback": [
      "\u001b[0;31m---------------------------------------------------------------------------\u001b[0m",
      "\u001b[0;31mTypeError\u001b[0m                                 Traceback (most recent call last)",
      "\u001b[1;32m/home/toto/Code/DALN-DR.Scheduling/instance-generator/test.ipynb Cell 21\u001b[0m line \u001b[0;36m3\n\u001b[1;32m      <a href='vscode-notebook-cell:/home/toto/Code/DALN-DR.Scheduling/instance-generator/test.ipynb#X30sZmlsZQ%3D%3D?line=0'>1</a>\u001b[0m A \u001b[39m=\u001b[39m [\u001b[39m1\u001b[39m,\u001b[39m3\u001b[39m]\n\u001b[0;32m----> <a href='vscode-notebook-cell:/home/toto/Code/DALN-DR.Scheduling/instance-generator/test.ipynb#X30sZmlsZQ%3D%3D?line=2'>3</a>\u001b[0m \u001b[39mprint\u001b[39m(\u001b[39msum\u001b[39;49m(A))\n",
      "\u001b[0;31mTypeError\u001b[0m: 'int' object is not callable"
     ]
    }
   ],
   "source": [
    "A = [1,3]\n",
    "\n",
    "print(sum(A))"
   ]
  },
  {
   "cell_type": "code",
   "execution_count": 16,
   "metadata": {},
   "outputs": [
    {
     "name": "stdout",
     "output_type": "stream",
     "text": [
      "10\n"
     ]
    }
   ],
   "source": [
    "A = [[1,2],[3,4]]\n",
    "\n",
    "sum = 0\n",
    "for i in range (2):\n",
    "    for j in range (2):\n",
    "        sum += A[i][j]\n",
    "\n",
    "print (sum)"
   ]
  },
  {
   "cell_type": "code",
   "execution_count": 17,
   "metadata": {},
   "outputs": [
    {
     "ename": "TypeError",
     "evalue": "unsupported operand type(s) for -: 'list' and 'list'",
     "output_type": "error",
     "traceback": [
      "\u001b[0;31m---------------------------------------------------------------------------\u001b[0m",
      "\u001b[0;31mTypeError\u001b[0m                                 Traceback (most recent call last)",
      "\u001b[1;32m/home/toto/Code/DALN-DR.Scheduling/instance-generator/test.ipynb Cell 23\u001b[0m line \u001b[0;36m3\n\u001b[1;32m      <a href='vscode-notebook-cell:/home/toto/Code/DALN-DR.Scheduling/instance-generator/test.ipynb#X32sZmlsZQ%3D%3D?line=0'>1</a>\u001b[0m B \u001b[39m=\u001b[39m [[\u001b[39m2\u001b[39m,\u001b[39m3\u001b[39m], [\u001b[39m1\u001b[39m,\u001b[39m4\u001b[39m]]\n\u001b[0;32m----> <a href='vscode-notebook-cell:/home/toto/Code/DALN-DR.Scheduling/instance-generator/test.ipynb#X32sZmlsZQ%3D%3D?line=2'>3</a>\u001b[0m \u001b[39mprint\u001b[39m (B\u001b[39m-\u001b[39;49mA)\n",
      "\u001b[0;31mTypeError\u001b[0m: unsupported operand type(s) for -: 'list' and 'list'"
     ]
    }
   ],
   "source": [
    "B = [[2,3], [1,4]]"
   ]
  }
 ],
 "metadata": {
  "kernelspec": {
   "display_name": "Python 3",
   "language": "python",
   "name": "python3"
  },
  "language_info": {
   "codemirror_mode": {
    "name": "ipython",
    "version": 3
   },
   "file_extension": ".py",
   "mimetype": "text/x-python",
   "name": "python",
   "nbconvert_exporter": "python",
   "pygments_lexer": "ipython3",
   "version": "3.11.4"
  },
  "orig_nbformat": 4
 },
 "nbformat": 4,
 "nbformat_minor": 2
}
