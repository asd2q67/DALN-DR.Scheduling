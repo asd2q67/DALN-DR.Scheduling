{
 "cells": [
  {
   "cell_type": "code",
   "execution_count": 2,
   "metadata": {},
   "outputs": [
    {
     "name": "stdout",
     "output_type": "stream",
     "text": [
      "[3, 8]\n"
     ]
    }
   ],
   "source": [
    "import random\n",
    "b = random.randint(1, 10)\n",
    "a = random.sample(range(2,12), b)\n",
    "print (a)"
   ]
  },
  {
   "cell_type": "code",
   "execution_count": 11,
   "metadata": {},
   "outputs": [
    {
     "data": {
      "text/plain": [
       "[{0: 0, 1: 1, 2: 2, 3: 3}, {0: 0, 1: 1, 2: 2, 3: 3}]"
      ]
     },
     "execution_count": 11,
     "metadata": {},
     "output_type": "execute_result"
    }
   ],
   "source": [
    "a = [[]for i in range (2)]\n",
    "\n",
    "\n",
    "for i in range(2) :\n",
    "    a[i] = dict()\n",
    "\n",
    "\n",
    "for i in range(2) :\n",
    "    for j in range (4):\n",
    "        a[i][j] = j\n",
    "a"
   ]
  },
  {
   "cell_type": "code",
   "execution_count": 17,
   "metadata": {},
   "outputs": [
    {
     "data": {
      "text/plain": [
       "[[1, 2, 3], [0, 0, 0, 0], [0, 0, 0, 0]]"
      ]
     },
     "execution_count": 17,
     "metadata": {},
     "output_type": "execute_result"
    }
   ],
   "source": [
    "room_weights = [[0 for i in range (4) ] for i in range (3)]\n",
    "room_weights[0] = [1,2,3]\n",
    "room_weights"
   ]
  },
  {
   "cell_type": "code",
   "execution_count": 12,
   "metadata": {},
   "outputs": [
    {
     "name": "stdout",
     "output_type": "stream",
     "text": [
      "        0       1\n",
      "0  [1, 2]  [3, 4]\n",
      "1  [3, 2]  [5, 6]\n"
     ]
    }
   ],
   "source": [
    "import pandas as pd\n",
    "\n",
    "a = [[[1,2],[3,4]],\n",
    "    [[3,2],[5,6]]]\n",
    "\n",
    "df = pd.DataFrame(a)\n",
    "\n",
    "print (df)"
   ]
  },
  {
   "cell_type": "code",
   "execution_count": 4,
   "metadata": {},
   "outputs": [
    {
     "data": {
      "text/plain": [
       "(array([0, 3]),)"
      ]
     },
     "execution_count": 4,
     "metadata": {},
     "output_type": "execute_result"
    }
   ],
   "source": [
    "import numpy as np\n",
    "A = np.array([1,3,4,1])\n",
    "a = np.where(A == A.min())\n",
    "a"
   ]
  },
  {
   "cell_type": "code",
   "execution_count": 5,
   "metadata": {},
   "outputs": [
    {
     "data": {
      "text/plain": [
       "[2, 4, 1, 2, 3]"
      ]
     },
     "execution_count": 5,
     "metadata": {},
     "output_type": "execute_result"
    }
   ],
   "source": [
    "A = [[1,2], [2,4]]\n",
    "\n",
    "B = A[1] + [1,2,3]\n",
    "B"
   ]
  },
  {
   "cell_type": "code",
   "execution_count": 8,
   "metadata": {},
   "outputs": [
    {
     "data": {
      "text/plain": [
       "[[2, 3], [2, 3, 4]]"
      ]
     },
     "execution_count": 8,
     "metadata": {},
     "output_type": "execute_result"
    }
   ],
   "source": [
    "A = [[1,2,3],[2,3,4]]\n",
    "\n",
    "A[0].remove(1)\n",
    "A\n"
   ]
  },
  {
   "cell_type": "code",
   "execution_count": 20,
   "metadata": {},
   "outputs": [
    {
     "name": "stdout",
     "output_type": "stream",
     "text": [
      "[1, 3, 2]\n"
     ]
    }
   ],
   "source": [
    "import random \n",
    "A = [1,2,3]\n",
    "random.shuffle(A)\n",
    "print (A)"
   ]
  },
  {
   "cell_type": "code",
   "execution_count": 54,
   "metadata": {},
   "outputs": [
    {
     "data": {
      "text/plain": [
       "[[[0, 1], [7, 8], [5], [7, 1], [1], [0], [0]],\n",
       " [[3], [3], [3, 8], [5], [8], [7, 3], [5, 8]],\n",
       " [[4], [9], [7], [3], [3], [1], [3]],\n",
       " [[2], [4], [2, 9], [9], [4], [8], [7]],\n",
       " [[6], [], [6], [], [9], [6], [9]],\n",
       " [[5, 8], [6, 0], [4, 0], [2, 4], [2, 6], [9, 4], [2, 6]],\n",
       " [[], [1], [1], [6], [5], [5], [1]]]"
      ]
     },
     "execution_count": 54,
     "metadata": {},
     "output_type": "execute_result"
    }
   ],
   "source": [
    "import csv\n",
    "import json\n",
    "path = '/home/toto/Code/DALN-DR.Scheduling/cheker/solution.csv'\n",
    "\n",
    "num_day = 7\n",
    "num_room = 7\n",
    "\n",
    "solution = [[[] for i in range (7)] for j in range (7)]\n",
    "\n",
    "with open (path, 'r') as file :\n",
    "    reader = csv.reader(file)\n",
    "    next (reader, None)\n",
    "\n",
    "    count = 0\n",
    "    for row in reader :\n",
    "        \n",
    "        for i in range (len(row )):    \n",
    "            if (i == 0) : continue\n",
    "            # print (row[i])\n",
    "            solution[count][i - 1] = json.loads(row[i])\n",
    "        count +=1 \n",
    "            \n",
    "\n",
    "solution"
   ]
  },
  {
   "cell_type": "code",
   "execution_count": 57,
   "metadata": {},
   "outputs": [
    {
     "name": "stdout",
     "output_type": "stream",
     "text": [
      "7\n"
     ]
    }
   ],
   "source": [
    "print (len (solution))"
   ]
  },
  {
   "cell_type": "code",
   "execution_count": 47,
   "metadata": {},
   "outputs": [],
   "source": [
    "A  = [[[1,2,3],[1,3]]\n",
    "      ,[[2,3],[3]]\n",
    "      , [[3],[3,4]]]\n",
    "\n",
    "f = open(\"text.txt\", 'w')\n",
    "# with open (\"text.csv\", 'w') as file :\n",
    "# for i in range(len(A)):\n",
    "#     for j in range(2):\n",
    "#         for x in A[i][j]:\n",
    "#             f.write(\"{},\".format(x))\n",
    "#         f.write(\"     \")\n",
    "#     f.write(\"\\n\")\n",
    "f.write(\"HEllo\")\n",
    "        \n"
   ]
  }
 ],
 "metadata": {
  "kernelspec": {
   "display_name": "Python 3",
   "language": "python",
   "name": "python3"
  },
  "language_info": {
   "codemirror_mode": {
    "name": "ipython",
    "version": 3
   },
   "file_extension": ".py",
   "mimetype": "text/x-python",
   "name": "python",
   "nbconvert_exporter": "python",
   "pygments_lexer": "ipython3",
   "version": "3.11.4"
  },
  "orig_nbformat": 4
 },
 "nbformat": 4,
 "nbformat_minor": 2
}
